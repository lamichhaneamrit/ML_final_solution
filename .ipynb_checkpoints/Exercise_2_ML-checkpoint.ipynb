{
 "cells": [
  {
   "cell_type": "code",
   "execution_count": 2,
   "metadata": {},
   "outputs": [
    {
     "data": {
      "image/png": "[encoded data removed]",
      "text/plain": [
       "<Figure size 432x288 with 1 Axes>"
      ]
     },
     "metadata": {
      "needs_background": "light"
     },
     "output_type": "display_data"
    }
   ],
   "source": [
    "import os\n",
    "import sys\n",
    "import numpy as np\n",
    "import matplotlib.pyplot as plt\n",
    "import math\n",
    "\n",
    "cwd = os.getcwd()\n",
    "#sys.path.append(r'C:\\Users\\tusha\\OneDrive\\Desktop\\Machine Learning I')\n",
    "# #################################################################################################################\n",
    "# Example 3: TASK A\n",
    "N = 100\n",
    "mu = 20\n",
    "standard_dev = 4\n",
    "sigma = math.sqrt(standard_dev)\n",
    "s = np.random.normal(mu, sigma, N)\n",
    "gauss_func = 1/(sigma * np.sqrt(2 * np.pi)) * np.exp( - (s - mu)**2 / (2 * sigma**2))\n",
    "\n",
    "plt.figure()\n",
    "plt.subplot(2,1,1)\n",
    "plt.scatter(s, gauss_func, alpha=0.5)\n",
    "plt.xlabel('random values')\n",
    "plt.ylabel('gaussian pdf')\n",
    "plt.grid()\n",
    "\n"
   ]
  },
  {
   "cell_type": "code",
   "execution_count": 3,
   "metadata": {},
   "outputs": [
    {
     "data": {
      "image/png": "[encoded data removed]",
      "text/plain": [
       "<Figure size 432x288 with 1 Axes>"
      ]
     },
     "metadata": {
      "needs_background": "light"
     },
     "output_type": "display_data"
    }
   ],
   "source": [
    "\n",
    "plt.subplot(2,1,2)\n",
    "count, bins, ignored = plt.hist(s, 20, density=True, alpha=0.6, color='g')\n",
    "plt.plot(bins, 1/(sigma * np.sqrt(2 * np.pi)) * np.exp( - (bins - mu)**2 / (2 * sigma**2) ), linewidth=2, color='r')\n",
    "plt.xlabel('random values')\n",
    "plt.ylabel('gaussian pdf')\n",
    "plt.grid()\n",
    "plt.show()"
   ]
  },
  {
   "cell_type": "code",
   "execution_count": 4,
   "metadata": {},
   "outputs": [
    {
     "name": "stdout",
     "output_type": "stream",
     "text": [
      "Maximum likelihood of the mean:  20.42862065913701\n",
      "Maximum likelihood of the variance : 4.399030742074218\n"
     ]
    }
   ],
   "source": [
    "# #################################################################################################################\n",
    "# Example 3: TASK B\n",
    "\n",
    "MLE_mu = (1/N)*(np.sum(s))\n",
    "MLE_sigma = (1/N)*(np.sum((s - MLE_mu)**2))\n",
    "\n",
    "print('Maximum likelihood of the mean: ', MLE_mu)\n",
    "print('Maximum likelihood of the variance :', MLE_sigma)\n",
    "\n",
    "# #################################################################################################################\n",
    "# Example 3: TASK D\n",
    "\n",
    "# For small number of data points, the distribution will be same as of with larger number of data points, but the\n",
    "# variation among the sample means will be larger.\n",
    "\n",
    "# ##################################################################################################################\n",
    "\n",
    "\n"
   ]
  },
  {
   "cell_type": "code",
   "execution_count": null,
   "metadata": {},
   "outputs": [],
   "source": []
  }
 ],
 "metadata": {
  "kernelspec": {
   "display_name": "Python 3",
   "language": "python",
   "name": "python3"
  },
  "language_info": {
   "codemirror_mode": {
    "name": "ipython",
    "version": 3
   },
   "file_extension": ".py",
   "mimetype": "text/x-python",
   "name": "python",
   "nbconvert_exporter": "python",
   "pygments_lexer": "ipython3",
   "version": "3.7.3"
  }
 },
 "nbformat": 4,
 "nbformat_minor": 2
}
