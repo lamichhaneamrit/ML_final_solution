{
 "cells": [
  {
   "cell_type": "markdown",
   "metadata": {},
   "source": [
    "## Machine Learning Exercise 2\n",
    "## Group 8"
   ]
  },
  {
   "cell_type": "markdown",
   "metadata": {},
   "source": [
    "### Task 1"
   ]
  },
  {
   "cell_type": "markdown",
   "metadata": {},
   "source": [
    "Poisson probability function, \n",
    "\\begin{equation}\\label{eq1}\n",
    "p(x|\\lambda) = \\exp(-\\lambda) \\cdot \\frac{\\lambda^x}{x!}\n",
    "\\end{equation}\n",
    "where x = 0,1,2,....,N \n",
    "log likelihood function, \n",
    "\\begin{equation}\\label{eq2}\n",
    "l(\\lambda) = \\ln \\prod_{i=1}^{N}f(x_i|\\lambda) \n",
    "\\end{equation}\n",
    "\\begin{equation}\\label{eq3}\n",
    "l(\\lambda) = \\sum_{i=1}^{N} \\ln(\\frac{\\exp(-\\lambda) \\cdot \\lambda^x}{x!})\n",
    "\\end{equation}\n",
    "\\begin{equation}\\label{eq4}\n",
    "l(\\lambda) = \\sum_{i=1}^{N} \\ln(\\exp(-\\lambda)) + \\sum_{i=1}^{N} x_i \\cdot (\\ln(\\lambda)) - \\sum_{i=1}^{N} \\ln(x!) \n",
    "\\end{equation}\n",
    "From calculus, a necessary condition for a point $\\lambda$ to be a local maximum of l($\\lambda$) is,\n",
    "\\begin{equation}\\label{eq5}\n",
    "\\frac{\\partial l(\\lambda)}{\\partial \\lambda} = 0\n",
    "\\end{equation}\n",
    "\\begin{equation}\\label{eq6}\n",
    "\\frac{\\partial}{\\partial \\lambda} (\\sum_{i=1}^{N} \\ln(\\exp(-\\lambda)) + \\sum_{i=1}^{N} x_i \\cdot (\\ln(\\lambda)) - \\sum_{i=1}^{N} \\ln(x!)) = 0\n",
    "\\end{equation}\n",
    "\\begin{equation}\\label{eq7}\n",
    "\\frac{\\partial (-N\\cdot \\lambda)}{\\partial \\lambda} + \\frac{\\partial (\\ln (\\lambda))\\cdot \\sum_{i=1}^{N} x_i}{\\partial \\lambda} - \\frac{\\partial (\\sum_{i=1}^{N} \\ln (x_i!))}{\\partial \\lambda} = 0 \n",
    "\\end{equation}\n",
    "\\begin{equation}\\label{eq8}\n",
    "-n + \\frac{1}{\\lambda}\\cdot \\sum_{i=1}^{N} x_i = 0 \n",
    "\\end{equation}\n",
    "\\begin{equation}\\label{eq9}\n",
    "\\lambda = \\frac{1}{N} \\cdot \\sum_{i=1}^{N} x_i  \n",
    "\\end{equation}\n",
    "which is equal to sample mean of N data points.\n"
   ]
  },
  {
   "cell_type": "markdown",
   "metadata": {},
   "source": [
    "### Task 2"
   ]
  },
  {
   "cell_type": "markdown",
   "metadata": {},
   "source": [
    "### A)\n",
    "\n",
    "$p(x|\\mu_1,\\mu_2,\\sigma_1^2,\\sigma_2^2)$ is a probability density function, when the condition $\\int_{-\\infty}^{\\infty} p(x|\\mu_1,\\mu_2,\\sigma_1^2,\\sigma_2^2) dx = 1$ is fulfilled. \n",
    "\n",
    "Given that $N(x;\\mu_1,\\sigma_1^2)$ and $N(x;\\mu_2,\\sigma_2^2)$ are Gaussian functions, it follows that $\\int_{-\\infty}^{\\infty} N(x;\\mu_1,\\sigma_1^2) dx = \\int_{-\\infty}^{\\infty} N(x;\\mu_2,\\sigma_2^2) dx = 1$. Applying this to the function $p(x|\\mu_1,\\mu_2,\\sigma_1^2,\\sigma_2^2)$ yields:\n",
    "\n",
    "\\begin{align}\n",
    "\\int_{-\\infty}^{\\infty} p(x|\\mu_1,\\mu_2,\\sigma_1^2,\\sigma_2^2) dx = \\frac{1}{2} $\\int_{-\\infty}^{\\infty} N(x;\\mu_1,\\sigma_1^2) dx + \\frac{1}{2} \\int_{-\\infty}^{\\infty} N(x;\\mu_2,\\sigma_2^2) dx = \\frac{1}{2} + \\frac{1}{2} = 1\n",
    "\\end{align}\n",
    "\n",
    "As $p(x) > 0$  $\\forall x \\in \\mathbb{R}$ holds for a Gaussian function, it is also necessary for the sum of two Gaussians with positive coefficients."
   ]
  },
  {
   "cell_type": "markdown",
   "metadata": {},
   "source": [
    "### B)\n",
    "\n",
    "The difficulty to find a maximum likelihood solution for $p(x|\\mu_1,\\mu_2,\\sigma_1^2,\\sigma_2^2)$ results from the fact that it contains two values of $\\mu$ and $\\sigma^2$ each. Therefore, the Gaussian statistical model with mean and variance can't be applied."
   ]
  },
  {
   "cell_type": "markdown",
   "metadata": {},
   "source": [
    "### Task 3"
   ]
  },
  {
   "cell_type": "code",
   "execution_count": 7,
   "metadata": {},
   "outputs": [],
   "source": [
    "import numpy as np\n",
    "import matplotlib.pyplot as plt\n",
    "import math"
   ]
  },
  {
   "cell_type": "markdown",
   "metadata": {},
   "source": [
    "### A)"
   ]
  },
  {
   "cell_type": "code",
   "execution_count": 8,
   "metadata": {},
   "outputs": [
    {
     "data": {
      "image/png": "[encoded data removed]",
      "text/plain": [
       "<Figure size 432x288 with 1 Axes>"
      ]
     },
     "metadata": {
      "needs_background": "light"
     },
     "output_type": "display_data"
    }
   ],
   "source": [
    "N = 100\n",
    "mu = 20\n",
    "variance = 4\n",
    "sigma = math.sqrt(variance)\n",
    "s = np.random.normal(mu, sigma, N)\n",
    "gauss_func = 1/(sigma * np.sqrt(2 * np.pi)) * np.exp( - (s - mu)**2 / (2 * sigma**2))\n",
    "\n",
    "plt.figure()\n",
    "plt.subplot(2,1,1)\n",
    "plt.scatter(s, gauss_func, alpha=0.5)\n",
    "plt.xlabel('random values')\n",
    "plt.ylabel('gaussian pdf')\n",
    "plt.grid()"
   ]
  },
  {
   "cell_type": "code",
   "execution_count": 9,
   "metadata": {},
   "outputs": [
    {
     "data": {
      "image/png": "[encoded data removed]",
      "text/plain": [
       "<Figure size 432x288 with 1 Axes>"
      ]
     },
     "metadata": {
      "needs_background": "light"
     },
     "output_type": "display_data"
    }
   ],
   "source": [
    "plt.subplot(2,1,2)\n",
    "count, bins, ignored = plt.hist(s, 20, density=True, alpha=0.6, color='g')\n",
    "plt.plot(bins, 1/(sigma * np.sqrt(2 * np.pi)) * np.exp( - (bins - mu)**2 / (2 * sigma**2) ), linewidth=2, color='r')\n",
    "plt.xlabel('random values')\n",
    "plt.ylabel('gaussian pdf')\n",
    "plt.grid()\n",
    "plt.show()"
   ]
  },
  {
   "cell_type": "markdown",
   "metadata": {},
   "source": [
    "### B)"
   ]
  },
  {
   "cell_type": "markdown",
   "metadata": {},
   "source": [
    "Using the equations $\\mu = \\frac{1}{N} \\sum_n x_n$ and $\\sigma^2 = \\frac{1}{N} \\sum_n (x_n - \\mu)^2$, the asked values are computed."
   ]
  },
  {
   "cell_type": "code",
   "execution_count": 10,
   "metadata": {},
   "outputs": [
    {
     "name": "stdout",
     "output_type": "stream",
     "text": [
      "Maximum likelihood of the mean:  20.184980045419255\n",
      "Maximum likelihood of the variance : 2.923640213348071\n"
     ]
    }
   ],
   "source": [
    "# Compute maximum likelihood parameters µ* and sigma^2* for the datapoints generated in Task A.\n",
    "MLE_mu = (1/N)*(np.sum(s))\n",
    "MLE_sigma = (1/N)*(np.sum((s - MLE_mu)**2))\n",
    "\n",
    "print('Maximum likelihood of the mean: ', MLE_mu)\n",
    "print('Maximum likelihood of the variance :', MLE_sigma)"
   ]
  },
  {
   "cell_type": "markdown",
   "metadata": {},
   "source": [
    "### C)"
   ]
  },
  {
   "cell_type": "markdown",
   "metadata": {},
   "source": [
    "The computed values do not match the parameters of task A perfectly, because it's a statistical method, which results in the fact, that the computed values will never fully fit to the parameters, but only get closer and closer, the more samples are present."
   ]
  },
  {
   "cell_type": "markdown",
   "metadata": {},
   "source": [
    "### D)"
   ]
  },
  {
   "cell_type": "markdown",
   "metadata": {},
   "source": [
    "With less samples, the fit of the recovered parameters to the parameters from task A gets worse.\n",
    "With more samples however, the recovered parameters fit to these from task A better."
   ]
  },
  {
   "cell_type": "markdown",
   "metadata": {},
   "source": [
    "### Task 4"
   ]
  },
  {
   "cell_type": "markdown",
   "metadata": {},
   "source": [
    "### A)\n",
    "\n",
    "\\begin{eqnarray}\n",
    "p_{correct} &=&\\sum_{k=1}^{K}p(x\\in R_k,c=c_k)\\\\\n",
    "&=&\\sum_{k=1}^{K}\\int_{R_k}p(x,c=c_k)dx\\\\\n",
    "&=&\\sum_{k=1}^{K}\\int_{R_k}p(c=c_k|x)p(x)dx\\\\\n",
    "R_k &=& \\{x|p(c=c_j|x)>p(c=c_i|x) \\forall i \\neq j\\}\n",
    "\\end{eqnarray}\n",
    "\n",
    "$p_{correct}$ needs to be maximal. In order to maximize the above sum, we need to maximize each summand. Therefore in each arbitrary chosen region we want to assign the fruit with the highest value of the integral of the posterior probability, since it leads to the highest value. Now since we are able to chose region boundaries freely, we can set them in a way, that we assign one specific fruit to all regions, where its posterior probability is the highest compared to the other fruits."
   ]
  },
  {
   "cell_type": "markdown",
   "metadata": {},
   "source": [
    "### B)\n",
    "\n",
    "It is possible that is is an empty set, because the posterior probability of a specific fruit for all positions x can be smaller than the posterior probability of any other fruit. In this case, the fruit would not get assigned to any region, resulting in an empty set $R_k$."
   ]
  }
 ],
 "metadata": {
  "kernelspec": {
   "display_name": "Python 3",
   "language": "python",
   "name": "python3"
  },
  "language_info": {
   "codemirror_mode": {
    "name": "ipython",
    "version": 3
   },
   "file_extension": ".py",
   "mimetype": "text/x-python",
   "name": "python",
   "nbconvert_exporter": "python",
   "pygments_lexer": "ipython3",
   "version": "3.7.6"
  }
 },
 "nbformat": 4,
 "nbformat_minor": 4
}
